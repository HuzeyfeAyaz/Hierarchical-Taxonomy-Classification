{
 "cells": [
  {
   "cell_type": "markdown",
   "metadata": {},
   "source": [
    "### Importing Modules"
   ]
  },
  {
   "cell_type": "code",
   "execution_count": null,
   "metadata": {
    "colab": {},
    "colab_type": "code",
    "id": "mTjpKvEZwKhn"
   },
   "outputs": [],
   "source": [
    "import numpy as np\n",
    "import pandas as pd\n",
    "import matplotlib.pyplot as plt\n",
    "from sklearn.preprocessing import StandardScaler\n",
    "from sklearn.pipeline import Pipeline\n",
    "import matplotlib.patches as mpatches\n",
    "from sklearn.multiclass import OneVsRestClassifier\n",
    "import pickle\n",
    "\n",
    "# Scores\n",
    "from sklearn.model_selection import StratifiedKFold\n",
    "from sklearn.metrics import f1_score\n",
    "\n",
    "# Classifiers\n",
    "from sklearn.svm import SVC\n",
    "\n",
    "# Ignoring Errors\n",
    "import warnings\n",
    "warnings.simplefilter('ignore')"
   ]
  },
  {
   "cell_type": "code",
   "execution_count": null,
   "metadata": {
    "colab": {},
    "colab_type": "code",
    "id": "Ug10nfvOqCv0"
   },
   "outputs": [],
   "source": [
    "# def find_val_score(X, y, k):\n",
    "#     all_f1_scores_test = []\n",
    "#     all_f1_scores_train = []\n",
    "\n",
    "#     kf = StratifiedKFold(10, random_state=0, shuffle=True)\n",
    "    \n",
    "#     for train_index, test_index in kf.split(X, y):\n",
    "#         X_train, X_test = X[train_index], X[test_index]\n",
    "#         y_train, y_test = y[train_index], y[test_index]\n",
    "#         linear_svm = Pipeline([['sc', StandardScaler()], ['clf', SVC(gamma=1/X_train.shape[0],\n",
    "#                     kernel=\"linear\", probability=True, random_state=0)]])\n",
    "#         ovr_clf = OneVsRestClassifier(linear_svm)\n",
    "#         ovr_clf.fit(X_train, y_train)\n",
    "\n",
    "#         y_pred_train = ovr_clf.predict(X_train)\n",
    "#         y_pred_test = ovr_clf.predict(X_test)\n",
    "#         print(y_pred_test)\n",
    "\n",
    "#         for true, pred in zip(y_train, y_pred_train):\n",
    "#             if true == pred:\n",
    "#                 all_f1_scores_train.append(species_score(true, k, 'train'))\n",
    "#             else:\n",
    "#                 all_f1_scores_train.append(0)\n",
    "\n",
    "#         for true, pred in zip(y_test, y_pred_test):\n",
    "#             if true == pred:\n",
    "#                 all_f1_scores_test.append(species_score(true, k, 'test'))\n",
    "#             else:\n",
    "#                 all_f1_scores_test.append(0)\n",
    "    \n",
    "#     all_f1_scores_test = np.ravel(all_f1_scores_test)\n",
    "#     all_f1_scores_train = np.ravel(all_f1_scores_train)\n",
    "#     return [(all_f1_scores_train.mean(), all_f1_scores_train.std()),\n",
    "#             (all_f1_scores_test.mean(), all_f1_scores_test.std())]"
   ]
  },
  {
   "cell_type": "markdown",
   "metadata": {},
   "source": [
    "### Estimating Taxonomic Class:\n",
    "\n",
    "- If a sample is predicted true it will goes to predict subclasses, it will append 0 if it is estimated wrong"
   ]
  },
  {
   "cell_type": "code",
   "execution_count": null,
   "metadata": {},
   "outputs": [],
   "source": [
    "def find_val_score(X, y, k):\n",
    "    all_f1_scores_test = []\n",
    "    all_f1_scores_train = []\n",
    "\n",
    "    kf = StratifiedKFold(10, random_state=0, shuffle=True)\n",
    "    \n",
    "    for train_index, test_index in kf.split(X, y):\n",
    "        X_train, X_test = X[train_index], X[test_index]\n",
    "        y_train, y_test = y[train_index], y[test_index]\n",
    "        linear_svm = Pipeline([['sc', StandardScaler()], ['clf', SVC(gamma=1/X_train.shape[0],\n",
    "                    kernel=\"linear\", probability=True, random_state=0)]])\n",
    "        ovr_clf = OneVsRestClassifier(linear_svm)\n",
    "        ovr_clf.fit(X_train, y_train)\n",
    "\n",
    "        y_pred_train = ovr_clf.predict(X_train)\n",
    "        y_pred_test = ovr_clf.predict(X_test)\n",
    "        print(y_pred_test)\n",
    "\n",
    "        for true, pred in zip(y_train, y_pred_train):\n",
    "            if true == pred:\n",
    "                all_f1_scores_train.append(uncombined_datas[str(k)][true][0])\n",
    "            else:\n",
    "                all_f1_scores_train.append(0)\n",
    "\n",
    "        for true, pred in zip(y_test, y_pred_test):\n",
    "            if true == pred:\n",
    "                all_f1_scores_test.append(uncombined_datas[str(k)][true][1])\n",
    "            else:\n",
    "                all_f1_scores_test.append(0)\n",
    "    \n",
    "    all_f1_scores_test = np.ravel(all_f1_scores_test)\n",
    "    all_f1_scores_train = np.ravel(all_f1_scores_train)\n",
    "    return [(all_f1_scores_train.mean(), all_f1_scores_train.std()),\n",
    "            (all_f1_scores_test.mean(), all_f1_scores_test.std())]"
   ]
  },
  {
   "cell_type": "code",
   "execution_count": null,
   "metadata": {
    "colab": {},
    "colab_type": "code",
    "id": "8Lq6Ls4IqCVE"
   },
   "outputs": [],
   "source": [
    "# def species_score(taxonomic_class, k, train_test):\n",
    "#     species_f1 = []\n",
    "\n",
    "#     sub_df = uncombined_datas[str(k)][taxonomic_class]\n",
    "#     X = sub_df.iloc[:,2:]\n",
    "#     y = sub_df.iloc[:,1]\n",
    "#     kf = StratifiedKFold(10, random_state=0, shuffle=True)\n",
    "    \n",
    "#     for train_index, test_index in kf.split(X, y):\n",
    "#         X_train, X_test = X[train_index], X[test_index]\n",
    "#         y_train, y_test = y[train_index], y[test_index]\n",
    "\n",
    "#         linear_svm = Pipeline([['sc', StandardScaler()], ['clf', SVC(gamma=1/X_train.shape[0],\n",
    "#                     kernel=\"linear\", probability=True, random_state=0)]])\n",
    "#         ovr_clf = OneVsRestClassifier(linear_svm)\n",
    "#         ovr_clf.fit(X_train, y_train)\n",
    "\n",
    "#         if train_test == 'train':\n",
    "#             y_pred_train = ovr_clf.predict(X_train)\n",
    "#             f1_micro_train = f1_score(y_train, y_pred_train, pos_label=None, average='micro')\n",
    "#             species_f1.append(f1_micro_train)\n",
    "          \n",
    "#         elif train_test == 'test':\n",
    "#             y_pred_test = ovr_clf.predict(X_test)\n",
    "#             f1_micro_test = f1_score(y_test, y_pred_test, pos_label=None, average='micro')\n",
    "#             species_f1.append(f1_micro_test)\n",
    "\n",
    "#     species_f1 = np.ravel(species_f1)\n",
    "#     return species_f1.mean()"
   ]
  },
  {
   "cell_type": "markdown",
   "metadata": {},
   "source": [
    "### F1 Score Calculation For Species Classes"
   ]
  },
  {
   "cell_type": "code",
   "execution_count": null,
   "metadata": {},
   "outputs": [],
   "source": [
    "def species_score(data):\n",
    "    species_f1_train = []\n",
    "    species_f1_test = []\n",
    "\n",
    "    X = np.array(data.iloc[:,2:])\n",
    "    y = np.ravel(data.iloc[:,1])\n",
    "    kf = StratifiedKFold(10, random_state=0, shuffle=True)\n",
    "    \n",
    "    for train_index, test_index in kf.split(X, y):\n",
    "        X_train, X_test = X[train_index], X[test_index]\n",
    "        y_train, y_test = y[train_index], y[test_index]\n",
    "\n",
    "        linear_svm = Pipeline([['sc', StandardScaler()], ['clf', SVC(gamma=1/X_train.shape[0],\n",
    "                    kernel=\"linear\", probability=True, random_state=0)]])\n",
    "        ovr_clf = OneVsRestClassifier(linear_svm)\n",
    "        ovr_clf.fit(X_train, y_train)\n",
    "\n",
    "        y_pred_train = ovr_clf.predict(X_train)\n",
    "        f1_micro_train = f1_score(y_train, y_pred_train, pos_label=None, average='micro')\n",
    "        species_f1_train.append(f1_micro_train)\n",
    "          \n",
    "        y_pred_test = ovr_clf.predict(X_test)\n",
    "        f1_micro_test = f1_score(y_test, y_pred_test, pos_label=None, average='micro')\n",
    "        species_f1_test.append(f1_micro_test)\n",
    "\n",
    "    species_f1_train = np.ravel(species_f1_train)\n",
    "    species_f1_test = np.ravel(species_f1_test)\n",
    "    return (species_f1_train.mean(), species_f1_test.mean())"
   ]
  },
  {
   "cell_type": "markdown",
   "metadata": {},
   "source": [
    "### Inserting and Merging Data & Species Classification"
   ]
  },
  {
   "cell_type": "code",
   "execution_count": null,
   "metadata": {
    "colab": {},
    "colab_type": "code",
    "id": "5Cgv5IF4wKh-"
   },
   "outputs": [],
   "source": [
    "data_names = ['Aves', 'Chiroptera', 'Rodentia']\n",
    "combined_datas = {}\n",
    "uncombined_datas = {}\n",
    "for k in range(1,8):\n",
    "    before_combine_df = []\n",
    "    uncombined_datas.setdefault(str(k), {})\n",
    "    for data in data_names:\n",
    "        csv_file = pd.read_csv(\"{}.Cleaned.k{}.csv\".format(data, k))\n",
    "        csv_file = csv_file.drop(['Unnamed: 0', 'nucleotides'],1)\n",
    "        taxonomies = pd.DataFrame(np.ravel([data for i in range(csv_file.shape[0])]))\n",
    "        taxonomy_class_added = pd.concat([taxonomies, csv_file], axis=1)\n",
    "        before_combine_df.append(taxonomy_class_added)\n",
    "        \n",
    "        spec_score = species_score(taxonomy_class_added)\n",
    "        uncombined_datas[str(k)][data] = spec_score\n",
    "\n",
    "    combined_datas[str(k)] = pd.concat(before_combine_df, axis=0)"
   ]
  },
  {
   "cell_type": "markdown",
   "metadata": {},
   "source": [
    "### Starting to Hierarchical Classification"
   ]
  },
  {
   "cell_type": "code",
   "execution_count": null,
   "metadata": {
    "colab": {
     "base_uri": "https://localhost:8080/",
     "height": 357
    },
    "colab_type": "code",
    "executionInfo": {
     "elapsed": 778744,
     "status": "error",
     "timestamp": 1577679159560,
     "user": {
      "displayName": "Huzeyfe Ayaz",
      "photoUrl": "https://lh3.googleusercontent.com/a-/AAuE7mABLAzm5JK_CnqTUmdKH5HwVCZ4l0oXPSxpKTSz=s64",
      "userId": "09330556348955103282"
     },
     "user_tz": -180
    },
    "id": "iQVSRtTN2Hee",
    "outputId": "77ac189c-828f-4d43-9ea5-d33879c2108a"
   },
   "outputs": [],
   "source": [
    "hierarchical_scores = {}\n",
    "for k in range(1,8):\n",
    "    X_data = np.array(combined_datas[str(k)].iloc[:,2:])\n",
    "    y_taxonomic_classes = np.ravel(combined_datas[str(k)].iloc[:,0])\n",
    "\n",
    "    f1_scores_ = find_val_score(X_data, y_taxonomic_classes, k)\n",
    "    hierarchical_scores[str(k)] = f1_scores_"
   ]
  },
  {
   "cell_type": "markdown",
   "metadata": {},
   "source": [
    "### Storing The Scores"
   ]
  },
  {
   "cell_type": "code",
   "execution_count": null,
   "metadata": {
    "colab": {},
    "colab_type": "code",
    "id": "Yxbn-Pg4wKiL"
   },
   "outputs": [],
   "source": [
    "with open('scores.db','wb') as score:\n",
    "    pickle.dump(hierarchical_scores, score)"
   ]
  },
  {
   "cell_type": "code",
   "execution_count": null,
   "metadata": {
    "colab": {
     "base_uri": "https://localhost:8080/",
     "height": 54
    },
    "colab_type": "code",
    "executionInfo": {
     "elapsed": 856672,
     "status": "ok",
     "timestamp": 1577679267650,
     "user": {
      "displayName": "Huzeyfe Ayaz",
      "photoUrl": "https://lh3.googleusercontent.com/a-/AAuE7mABLAzm5JK_CnqTUmdKH5HwVCZ4l0oXPSxpKTSz=s64",
      "userId": "09330556348955103282"
     },
     "user_tz": -180
    },
    "id": "g7z8nxhnSkTs",
    "outputId": "51b92fd2-7e69-43ca-fdb2-66ec42698608"
   },
   "outputs": [],
   "source": [
    "print(hierarchical_scores)"
   ]
  }
 ],
 "metadata": {
  "anaconda-cloud": {},
  "colab": {
   "collapsed_sections": [],
   "name": "taxonomies_hierarchical.ipynb",
   "provenance": []
  },
  "kernelspec": {
   "display_name": "Python 3",
   "language": "python",
   "name": "python3"
  },
  "language_info": {
   "codemirror_mode": {
    "name": "ipython",
    "version": 3
   },
   "file_extension": ".py",
   "mimetype": "text/x-python",
   "name": "python",
   "nbconvert_exporter": "python",
   "pygments_lexer": "ipython3",
   "version": "3.7.3"
  }
 },
 "nbformat": 4,
 "nbformat_minor": 1
}
