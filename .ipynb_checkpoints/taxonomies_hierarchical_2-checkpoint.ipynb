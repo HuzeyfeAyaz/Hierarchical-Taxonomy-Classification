{
 "cells": [
  {
   "cell_type": "markdown",
   "metadata": {},
   "source": [
    "### Importing Modules"
   ]
  },
  {
   "cell_type": "code",
   "execution_count": null,
   "metadata": {
    "colab": {},
    "colab_type": "code",
    "id": "mTjpKvEZwKhn"
   },
   "outputs": [],
   "source": [
    "import numpy as np\n",
    "import pandas as pd\n",
    "import matplotlib.pyplot as plt\n",
    "from sklearn.preprocessing import StandardScaler\n",
    "from sklearn.pipeline import Pipeline\n",
    "import matplotlib.patches as mpatches\n",
    "from sklearn.multiclass import OneVsRestClassifier\n",
    "from sklearn.model_selection import train_test_split\n",
    "import pickle\n",
    "\n",
    "# Scores\n",
    "from sklearn.model_selection import StratifiedKFold\n",
    "from sklearn.metrics import f1_score\n",
    "\n",
    "# Classifiers\n",
    "from sklearn.svm import SVC\n",
    "\n",
    "# Ignoring Errors\n",
    "import warnings\n",
    "warnings.simplefilter('ignore')"
   ]
  },
  {
   "cell_type": "markdown",
   "metadata": {},
   "source": [
    "### Estimating Taxonomic Class:"
   ]
  },
  {
   "cell_type": "code",
   "execution_count": null,
   "metadata": {},
   "outputs": [],
   "source": [
    "def find_val_score(k):\n",
    "    f1_scores_train, f1_scores_test = [], []\n",
    "    \n",
    "    data = combined_datas[str(k)]\n",
    "    X = np.array(data.iloc[:,2:]) # X is the barcode sequences\n",
    "    species = np.ravel(data.iloc[:,1])\n",
    "    y = np.ravel(data.iloc[:,0]) # y is the taxonomic classes\n",
    "    \n",
    "\n",
    "    kf = StratifiedKFold(10, random_state=0, shuffle=True)\n",
    "    \n",
    "    for train_index, test_index in kf.split(X, species): # straified based on species\n",
    "        predictions_train, predictions_test = [], []\n",
    "        \n",
    "        X_train, X_test = X[train_index], X[test_index] # barcode sequences\n",
    "        y_train, y_test = y[train_index], y[test_index] # taxonomic class\n",
    "        species_train, species_test = species[train_index], species[test_index] # species\n",
    "        \n",
    "        # Keeping Taxonomy Classes to Predict species\n",
    "        Aves_train = data.iloc[train_index,:]\n",
    "        Aves_train = Aves_train[Aves_train.taxonomic_class == 'Aves']\n",
    "        Aves_test = data.iloc[test_index,:]\n",
    "        Aves_test = Aves_test[Aves_test.taxonomic_class == 'Aves']\n",
    "        Chiroptera_train = data.iloc[train_index,:]\n",
    "        Chiroptera_train = Chiroptera_train[Chiroptera_train.taxonomic_class == 'Chiroptera']\n",
    "        Chiroptera_test = data.iloc[test_index,:]\n",
    "        Chiroptera_test = Chiroptera_test[Chiroptera_test.taxonomic_class == 'Chiroptera']\n",
    "        Rodentia_train = data.iloc[train_index,:]\n",
    "        Rodentia_train = Rodentia_train[Rodentia_train.taxonomic_class == 'Rodentia']\n",
    "        Rodentia_test = data.iloc[test_index,:]\n",
    "        Rodentia_test = Rodentia_test[Rodentia_test.taxonomic_class == 'Rodentia']\n",
    "        \n",
    "        # Classifiers, Species level classifiers fitted by their corresponding data-set\n",
    "        linear_svm_taxonomy = Pipeline([['sc', StandardScaler()], ['clf', SVC(gamma=1/X_train.shape[0],\n",
    "                    kernel=\"linear\", probability=True, random_state=0)]])\n",
    "        linear_svm_taxonomy.fit(X_train, y_train)\n",
    "        \n",
    "        linear_svm_aves = Pipeline([['sc', StandardScaler()], ['clf', SVC(gamma=1/Aves_train.shape[0],\n",
    "                kernel=\"linear\", probability=True, random_state=0)]])\n",
    "        linear_svm_aves.fit(np.array(Aves_train.iloc[:,2:]), np.ravel(Aves_train.iloc[:,1]))\n",
    "        \n",
    "        linear_svm_chiroptera = Pipeline([['sc', StandardScaler()], ['clf', SVC(gamma=1/Chiroptera_train.shape[0],\n",
    "                kernel=\"linear\", probability=True, random_state=0)]])\n",
    "        linear_svm_chiroptera.fit(np.array(Chiroptera_train.iloc[:,2:]), np.ravel(Chiroptera_train.iloc[:,1]))\n",
    "            \n",
    "        linear_svm_rodentia = Pipeline([['sc', StandardScaler()], ['clf', SVC(gamma=1/Rodentia_train.shape[0],\n",
    "                kernel=\"linear\", probability=True, random_state=0)]])\n",
    "        linear_svm_rodentia.fit(np.array(Rodentia_train.iloc[:,2:]), np.ravel(Rodentia_train.iloc[:,1]))\n",
    "        \n",
    "        y_pred_train = linear_svm_taxonomy.predict(X_train)\n",
    "        y_pred_test = linear_svm_taxonomy.predict(X_test)\n",
    "        \n",
    "        \n",
    "        # Predict the Species: X_train[idx,:] gives the barcode seq of each sample one by one\n",
    "        for idx in range(X_train.shape[0]):\n",
    "            if y_pred_train[idx] == 'Aves':\n",
    "                y_pred_train_species = linear_svm_aves.predict(X_train[idx, :].reshape(1,-1))\n",
    "                predictions_train.append(y_pred_train_species)\n",
    "                \n",
    "            elif y_pred_train[idx] == 'Chiroptera':\n",
    "                \n",
    "                y_pred_train_species = linear_svm_chiroptera.predict(X_train[idx, :].reshape(1,-1))\n",
    "                predictions_train.append(y_pred_train_species)\n",
    "                \n",
    "            elif y_pred_train[idx] == 'Rodentia':\n",
    "                \n",
    "                y_pred_train_species = linear_svm_rodentia.predict(X_train[idx, :].reshape(1,-1))\n",
    "                predictions_train.append(y_pred_train_species)\n",
    "            \n",
    "        for idx in range(X_test.shape[0]):\n",
    "            if y_pred_test[idx] == 'Aves':\n",
    "                \n",
    "                y_pred_test_species = linear_svm_aves.predict(X_test[idx, :].reshape(1,-1))\n",
    "                predictions_test.append(y_pred_test_species)\n",
    "                \n",
    "            elif y_pred_test[idx] == 'Chiroptera':\n",
    "                \n",
    "                y_pred_test_species = linear_svm_chiroptera.predict(X_test[idx, :].reshape(1,-1))\n",
    "                predictions_test.append(y_pred_test_species)\n",
    "                \n",
    "            elif y_pred_test[idx] == 'Rodentia':\n",
    "                \n",
    "                y_pred_test_species = linear_svm_rodentia.predict(X_test[idx, :].reshape(1,-1))\n",
    "                predictions_test.append(y_pred_test_species)\n",
    "                \n",
    "        # Appending the f1_score of each fold\n",
    "        f1_scores_train.append(f1_score(species_train, predictions_train, pos_label=None, average='micro'))\n",
    "        f1_scores_test.append(f1_score(species_test, predictions_test, pos_label=None, average='micro'))\n",
    "            \n",
    "            \n",
    "    \n",
    "    f1_scores_train = np.ravel(f1_scores_train)\n",
    "    f1_scores_test = np.ravel(f1_scores_test)\n",
    "    \n",
    "    return [(f1_scores_train.mean(), f1_scores_train.std()),\n",
    "            (f1_scores_test.mean(), f1_scores_test.std())]"
   ]
  },
  {
   "cell_type": "markdown",
   "metadata": {},
   "source": [
    "### To obtain Combined Dataset"
   ]
  },
  {
   "cell_type": "code",
   "execution_count": null,
   "metadata": {
    "colab": {},
    "colab_type": "code",
    "id": "5Cgv5IF4wKh-"
   },
   "outputs": [],
   "source": [
    "data_names = ['Aves', 'Chiroptera', 'Rodentia']\n",
    "combined_datas = {}\n",
    "for k in range(1,8):\n",
    "    before_combine_df = []\n",
    "    for data in data_names:\n",
    "        csv_file = pd.read_csv(\"{}.Cleaned.k{}.csv\".format(data, k))\n",
    "        csv_file = csv_file.drop(['Unnamed: 0', 'nucleotides'],1)\n",
    "        taxonomies = pd.DataFrame(np.ravel([data for i in range(csv_file.shape[0])]), columns = [\"taxonomic_class\"])\n",
    "        taxonomy_class_added = pd.concat([taxonomies, csv_file], axis=1)\n",
    "        before_combine_df.append(taxonomy_class_added)\n",
    "        \n",
    "    combined_datas[str(k)] = pd.concat(before_combine_df, axis=0)\n",
    "    print(k)"
   ]
  },
  {
   "cell_type": "markdown",
   "metadata": {},
   "source": [
    "### Starting to Hierarchical Classification"
   ]
  },
  {
   "cell_type": "code",
   "execution_count": null,
   "metadata": {
    "colab": {
     "base_uri": "https://localhost:8080/",
     "height": 357
    },
    "colab_type": "code",
    "executionInfo": {
     "elapsed": 778744,
     "status": "error",
     "timestamp": 1577679159560,
     "user": {
      "displayName": "Huzeyfe Ayaz",
      "photoUrl": "https://lh3.googleusercontent.com/a-/AAuE7mABLAzm5JK_CnqTUmdKH5HwVCZ4l0oXPSxpKTSz=s64",
      "userId": "09330556348955103282"
     },
     "user_tz": -180
    },
    "id": "iQVSRtTN2Hee",
    "outputId": "77ac189c-828f-4d43-9ea5-d33879c2108a"
   },
   "outputs": [],
   "source": [
    "hierarchical_scores = {}\n",
    "for k in range(1,8):\n",
    "    f1_scores_ = find_val_score(k)\n",
    "    hierarchical_scores[str(k)] = f1_scores_\n",
    "    print(k)"
   ]
  },
  {
   "cell_type": "markdown",
   "metadata": {},
   "source": [
    "### Storing The Scores"
   ]
  },
  {
   "cell_type": "code",
   "execution_count": null,
   "metadata": {
    "colab": {},
    "colab_type": "code",
    "id": "Yxbn-Pg4wKiL"
   },
   "outputs": [],
   "source": [
    "with open('scores.db','wb') as score:\n",
    "    pickle.dump(hierarchical_scores, score)"
   ]
  },
  {
   "cell_type": "code",
   "execution_count": null,
   "metadata": {
    "colab": {
     "base_uri": "https://localhost:8080/",
     "height": 54
    },
    "colab_type": "code",
    "executionInfo": {
     "elapsed": 856672,
     "status": "ok",
     "timestamp": 1577679267650,
     "user": {
      "displayName": "Huzeyfe Ayaz",
      "photoUrl": "https://lh3.googleusercontent.com/a-/AAuE7mABLAzm5JK_CnqTUmdKH5HwVCZ4l0oXPSxpKTSz=s64",
      "userId": "09330556348955103282"
     },
     "user_tz": -180
    },
    "id": "g7z8nxhnSkTs",
    "outputId": "51b92fd2-7e69-43ca-fdb2-66ec42698608"
   },
   "outputs": [],
   "source": [
    "print(hierarchical_scores)"
   ]
  }
 ],
 "metadata": {
  "anaconda-cloud": {},
  "colab": {
   "collapsed_sections": [],
   "name": "taxonomies_hierarchical.ipynb",
   "provenance": []
  },
  "kernelspec": {
   "display_name": "Python 3",
   "language": "python",
   "name": "python3"
  },
  "language_info": {
   "codemirror_mode": {
    "name": "ipython",
    "version": 3
   },
   "file_extension": ".py",
   "mimetype": "text/x-python",
   "name": "python",
   "nbconvert_exporter": "python",
   "pygments_lexer": "ipython3",
   "version": "3.7.3"
  }
 },
 "nbformat": 4,
 "nbformat_minor": 1
}
